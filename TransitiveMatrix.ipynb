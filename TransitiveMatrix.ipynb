{
  "nbformat": 4,
  "nbformat_minor": 0,
  "metadata": {
    "colab": {
      "provenance": [],
      "include_colab_link": true
    },
    "kernelspec": {
      "name": "python3",
      "display_name": "Python 3"
    },
    "language_info": {
      "name": "python"
    }
  },
  "cells": [
    {
      "cell_type": "markdown",
      "metadata": {
        "id": "view-in-github",
        "colab_type": "text"
      },
      "source": [
        "<a href=\"https://colab.research.google.com/github/toche7/fuzzyMICMAC/blob/main/TransitiveMatrix.ipynb\" target=\"_parent\"><img src=\"https://colab.research.google.com/assets/colab-badge.svg\" alt=\"Open In Colab\"/></a>"
      ]
    },
    {
      "cell_type": "code",
      "metadata": {
        "colab": {
          "base_uri": "https://localhost:8080/"
        },
        "id": "12HmHNA30F7c",
        "outputId": "61e709f3-ab41-4fb1-9504-418e16bbf9ae"
      },
      "source": [
        "import numpy as np\n",
        "from numpy import genfromtxt\n",
        "\n",
        "matrix_data = genfromtxt('./sample_data/beef.csv', delimiter=',',dtype=float)\n",
        "#matrix_data[0][0] = 1 # BOM correction (invalid first byte)\n",
        "data = (matrix_data > 0)\n",
        "data1 = data.astype(int)\n",
        "\n",
        "def warshall(a):\n",
        "    assert (len(row) == len(a) for row in a)\n",
        "    n = len(a)\n",
        "    for k in range(n):\n",
        "        for i in range(n):\n",
        "            for j in range(n):\n",
        "                a[i][j] = int(a[i][j]) or (int(a[i][k]) and int(a[k][j]))\n",
        "    return a\n",
        "\n",
        "reachability = warshall(data1.copy())\n",
        "\n",
        "#print(matrix_data)\n",
        "\n",
        "print(\"Input data:\")\n",
        "print(data1)\n",
        "print(\"Trasitive matrix:\")\n",
        "print(reachability)\n"
      ],
      "execution_count": null,
      "outputs": [
        {
          "output_type": "stream",
          "name": "stdout",
          "text": [
            "Input data:\n",
            "[[1 1 0 1 0 0 0 0 1 0 1]\n",
            " [1 0 0 1 0 0 0 0 0 0 0]\n",
            " [1 1 0 1 0 0 0 1 0 0 0]\n",
            " [0 0 0 0 0 0 0 0 0 0 0]\n",
            " [0 0 0 1 0 0 1 0 0 0 0]\n",
            " [1 1 0 1 0 0 0 0 0 0 1]\n",
            " [0 0 0 0 1 0 0 0 0 0 0]\n",
            " [0 0 0 1 0 0 0 0 0 0 0]\n",
            " [1 0 0 1 0 0 0 0 0 0 0]\n",
            " [1 0 0 1 0 0 0 0 0 0 0]\n",
            " [1 0 0 1 0 1 0 0 0 0 0]]\n",
            "Trasitive matrix:\n",
            "[[1 1 0 1 0 1 0 0 1 0 1]\n",
            " [1 1 0 1 0 1 0 0 1 0 1]\n",
            " [1 1 0 1 0 1 0 1 1 0 1]\n",
            " [0 0 0 0 0 0 0 0 0 0 0]\n",
            " [0 0 0 1 1 0 1 0 0 0 0]\n",
            " [1 1 0 1 0 1 0 0 1 0 1]\n",
            " [0 0 0 1 1 0 1 0 0 0 0]\n",
            " [0 0 0 1 0 0 0 0 0 0 0]\n",
            " [1 1 0 1 0 1 0 0 1 0 1]\n",
            " [1 1 0 1 0 1 0 0 1 0 1]\n",
            " [1 1 0 1 0 1 0 0 1 0 1]]\n"
          ]
        }
      ]
    },
    {
      "cell_type": "code",
      "source": [
        "matrix_data"
      ],
      "metadata": {
        "colab": {
          "base_uri": "https://localhost:8080/"
        },
        "id": "vzH9fTaFzEgP",
        "outputId": "f5ecf0bf-2c98-4ea7-df4c-e80db9d5d7b2"
      },
      "execution_count": null,
      "outputs": [
        {
          "output_type": "execute_result",
          "data": {
            "text/plain": [
              "array([[1. , 0.9, 0. , 0.7, 0. , 0. , 0. , 0. , 0.7, 0. , 0.5],\n",
              "       [0.9, 0. , 0. , 0.5, 0. , 0. , 0. , 0. , 0. , 0. , 0. ],\n",
              "       [0.5, 0.3, 0. , 0.5, 0. , 0. , 0. , 0.7, 0. , 0. , 0. ],\n",
              "       [0. , 0. , 0. , 0. , 0. , 0. , 0. , 0. , 0. , 0. , 0. ],\n",
              "       [0. , 0. , 0. , 0.1, 0. , 0. , 0.1, 0. , 0. , 0. , 0. ],\n",
              "       [0.5, 0.5, 0. , 0.5, 0. , 0. , 0. , 0. , 0. , 0. , 0.7],\n",
              "       [0. , 0. , 0. , 0. , 0.1, 0. , 0. , 0. , 0. , 0. , 0. ],\n",
              "       [0. , 0. , 0. , 0.1, 0. , 0. , 0. , 0. , 0. , 0. , 0. ],\n",
              "       [0.5, 0. , 0. , 0.5, 0. , 0. , 0. , 0. , 0. , 0. , 0. ],\n",
              "       [0.7, 0. , 0. , 0.9, 0. , 0. , 0. , 0. , 0. , 0. , 0. ],\n",
              "       [0.5, 0. , 0. , 0.3, 0. , 0.7, 0. , 0. , 0. , 0. , 0. ]])"
            ]
          },
          "metadata": {},
          "execution_count": 15
        }
      ]
    },
    {
      "cell_type": "code",
      "source": [
        "data = (matrix_data > 0)\n",
        "data.astype(int)\n"
      ],
      "metadata": {
        "colab": {
          "base_uri": "https://localhost:8080/"
        },
        "id": "kVo0JMHGzFG_",
        "outputId": "3a3e1f11-bf87-468c-a234-57dac76e021d"
      },
      "execution_count": null,
      "outputs": [
        {
          "output_type": "execute_result",
          "data": {
            "text/plain": [
              "array([[1, 1, 0, 1, 0, 0, 0, 0, 1, 0, 1],\n",
              "       [1, 0, 0, 1, 0, 0, 0, 0, 0, 0, 0],\n",
              "       [1, 1, 0, 1, 0, 0, 0, 1, 0, 0, 0],\n",
              "       [0, 0, 0, 0, 0, 0, 0, 0, 0, 0, 0],\n",
              "       [0, 0, 0, 1, 0, 0, 1, 0, 0, 0, 0],\n",
              "       [1, 1, 0, 1, 0, 0, 0, 0, 0, 0, 1],\n",
              "       [0, 0, 0, 0, 1, 0, 0, 0, 0, 0, 0],\n",
              "       [0, 0, 0, 1, 0, 0, 0, 0, 0, 0, 0],\n",
              "       [1, 0, 0, 1, 0, 0, 0, 0, 0, 0, 0],\n",
              "       [1, 0, 0, 1, 0, 0, 0, 0, 0, 0, 0],\n",
              "       [1, 0, 0, 1, 0, 1, 0, 0, 0, 0, 0]])"
            ]
          },
          "metadata": {},
          "execution_count": 16
        }
      ]
    },
    {
      "cell_type": "code",
      "source": [],
      "metadata": {
        "id": "tWMYkjtl0zgx"
      },
      "execution_count": null,
      "outputs": []
    }
  ]
}