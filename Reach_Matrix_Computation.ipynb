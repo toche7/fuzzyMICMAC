{
  "nbformat": 4,
  "nbformat_minor": 0,
  "metadata": {
    "colab": {
      "provenance": [],
      "authorship_tag": "ABX9TyO72VKphEPqcwhHS2+cA6LR",
      "include_colab_link": true
    },
    "kernelspec": {
      "name": "python3",
      "display_name": "Python 3"
    },
    "language_info": {
      "name": "python"
    }
  },
  "cells": [
    {
      "cell_type": "markdown",
      "metadata": {
        "id": "view-in-github",
        "colab_type": "text"
      },
      "source": [
        "<a href=\"https://colab.research.google.com/github/toche7/fuzzyMICMAC/blob/main/Reach_Matrix_Computation.ipynb\" target=\"_parent\"><img src=\"https://colab.research.google.com/assets/colab-badge.svg\" alt=\"Open In Colab\"/></a>"
      ]
    },
    {
      "cell_type": "code",
      "source": [
        "def ssim_to_initial_reachability(ssim):\n",
        "    n = len(ssim)\n",
        "    initial_reachability = [[0]*n for _ in range(n)]\n",
        "\n",
        "    for i in range(n):\n",
        "        for j in range(n):\n",
        "            if ssim[i][j] == 'V':\n",
        "                initial_reachability[i][j] = 1\n",
        "            elif ssim[i][j] == 'A':\n",
        "                initial_reachability[j][i] = 1\n",
        "            elif ssim[i][j] == 'X':\n",
        "                initial_reachability[i][j] = 1\n",
        "                initial_reachability[j][i] = 1\n",
        "\n",
        "    return initial_reachability\n",
        "\n",
        "# Example\n",
        "ssim = [\n",
        "    ['O', 'V', 'X', 'O'],\n",
        "    ['A', 'O', 'V', 'X'],\n",
        "    ['X', 'A', 'O', 'V'],\n",
        "    ['O', 'X', 'A', 'O']\n",
        "]\n",
        "\n",
        "initial_reachability_matrix = ssim_to_initial_reachability(ssim)\n",
        "\n",
        "for row in initial_reachability_matrix:\n",
        "    print(row)\n"
      ],
      "metadata": {
        "colab": {
          "base_uri": "https://localhost:8080/"
        },
        "id": "oe5RbD1V8zRL",
        "outputId": "d65302c1-ab59-4c49-a9f6-77758464ce07"
      },
      "execution_count": null,
      "outputs": [
        {
          "output_type": "stream",
          "name": "stdout",
          "text": [
            "[0, 1, 1, 0]\n",
            "[0, 0, 1, 1]\n",
            "[1, 0, 0, 1]\n",
            "[0, 1, 0, 0]\n"
          ]
        }
      ]
    },
    {
      "cell_type": "code",
      "execution_count": null,
      "metadata": {
        "colab": {
          "base_uri": "https://localhost:8080/"
        },
        "id": "SxJqxt6whHqa",
        "outputId": "4c59f2e3-f999-4ba8-bf16-37c4bada1d16"
      },
      "outputs": [
        {
          "output_type": "execute_result",
          "data": {
            "text/plain": [
              "([[1, 1, 1], [0, 1, 1], [0, 0, 1]], [[1, 1, 0], [0, 1, 1], [0, 0, 1]])"
            ]
          },
          "metadata": {},
          "execution_count": 2
        }
      ],
      "source": [
        "def warshall_algorithm(adj_matrix):\n",
        "    # Number of vertices in the graph\n",
        "    n = len(adj_matrix)\n",
        "    import copy\n",
        "\n",
        "    # Initialize the reachability matrix with the given adjacency matrix\n",
        "    reachability_matrix = [[0 for j in range(n)] for i in range(n)]\n",
        "    #init_matrix = [[0 for j in range(n)] for i in range(n)]\n",
        "    for i in range(n):\n",
        "        for j in range(n):\n",
        "            if i == j or adj_matrix[i][j] != 0:\n",
        "                # If i == j or there's a direct edge from i to j\n",
        "                reachability_matrix[i][j] = 1\n",
        "\n",
        "    init_matrix = copy.deepcopy(reachability_matrix)\n",
        "#    print('init_matrix =',init_matrix)\n",
        "    # Apply Warshall's algorithm to compute the transitive closure\n",
        "    for k in range(n):\n",
        "        for i in range(n):\n",
        "            for j in range(n):\n",
        "                reachability_matrix[i][j] = reachability_matrix[i][j] or (reachability_matrix[i][k] and reachability_matrix[k][j])\n",
        "#    print('init_matrix =',init_matrix)\n",
        "    return reachability_matrix, init_matrix\n",
        "\n",
        "# Example Usage:\n",
        "graph = [\n",
        "    [0, 1, 0],\n",
        "    [0, 0, 1],\n",
        "    [0, 0, 0]\n",
        "]\n",
        "\n",
        "aaa = warshall_algorithm(graph)\n",
        "aaa\n"
      ]
    },
    {
      "cell_type": "code",
      "source": [
        "graph2 = [\n",
        "[1 , 1 , 1 , 1 , 0 , 1 , 1 , 1 , 0 , 1],\n",
        "[1 , 1 , 0 , 0 , 0 , 1 , 1 , 1 , 0 , 1],\n",
        "[0 , 0 , 1 , 0 , 0 , 1 , 0 , 0 , 0 , 0],\n",
        "[0 , 0 , 0 , 1 , 1 , 1 , 0 , 1 , 0 , 0],\n",
        "[0 , 0 , 0 , 1 , 1 , 0 , 0 , 0 , 0 , 0],\n",
        "[0 , 0 , 0 , 0 , 0 , 1 , 0 , 1 , 1 , 0],\n",
        "[0 , 0 , 0 , 1 , 0 , 1 , 1 , 0 , 1 , 0],\n",
        "[0 , 0 , 0 , 0 , 0 , 0 , 0 , 1 , 0 , 0],\n",
        "[0 , 0 , 0 , 1 , 0 , 1 , 0 , 0 , 1 , 0],\n",
        "[0 , 0 , 1 , 0 , 0 , 1 , 1 , 0 , 1 , 1]]\n",
        "\n",
        "reachability_matrix = warshall_algorithm(graph2)\n",
        "for row in reachability_matrix[0]:\n",
        "    print(row)\n",
        "\n",
        "print('aaa')\n",
        "for row in reachability_matrix[1]:\n",
        "    print(row)"
      ],
      "metadata": {
        "colab": {
          "base_uri": "https://localhost:8080/"
        },
        "id": "ff6LxYIfiZME",
        "outputId": "f72066e0-ce29-4408-fbd5-f3a2ba607885"
      },
      "execution_count": null,
      "outputs": [
        {
          "output_type": "stream",
          "name": "stdout",
          "text": [
            "[1, 1, 1, 1, 1, 1, 1, 1, 1, 1]\n",
            "[1, 1, 1, 1, 1, 1, 1, 1, 1, 1]\n",
            "[0, 0, 1, 1, 1, 1, 0, 1, 1, 0]\n",
            "[0, 0, 0, 1, 1, 1, 0, 1, 1, 0]\n",
            "[0, 0, 0, 1, 1, 1, 0, 1, 1, 0]\n",
            "[0, 0, 0, 1, 1, 1, 0, 1, 1, 0]\n",
            "[0, 0, 0, 1, 1, 1, 1, 1, 1, 0]\n",
            "[0, 0, 0, 0, 0, 0, 0, 1, 0, 0]\n",
            "[0, 0, 0, 1, 1, 1, 0, 1, 1, 0]\n",
            "[0, 0, 1, 1, 1, 1, 1, 1, 1, 1]\n",
            "aaa\n",
            "[1, 1, 1, 1, 0, 1, 1, 1, 0, 1]\n",
            "[1, 1, 0, 0, 0, 1, 1, 1, 0, 1]\n",
            "[0, 0, 1, 0, 0, 1, 0, 0, 0, 0]\n",
            "[0, 0, 0, 1, 1, 1, 0, 1, 0, 0]\n",
            "[0, 0, 0, 1, 1, 0, 0, 0, 0, 0]\n",
            "[0, 0, 0, 0, 0, 1, 0, 1, 1, 0]\n",
            "[0, 0, 0, 1, 0, 1, 1, 0, 1, 0]\n",
            "[0, 0, 0, 0, 0, 0, 0, 1, 0, 0]\n",
            "[0, 0, 0, 1, 0, 1, 0, 0, 1, 0]\n",
            "[0, 0, 1, 0, 0, 1, 1, 0, 1, 1]\n"
          ]
        }
      ]
    },
    {
      "cell_type": "markdown",
      "source": [],
      "metadata": {
        "id": "aGjjMcTT6mRX"
      }
    },
    {
      "cell_type": "code",
      "source": [
        "def text_matrix_fn(adj_matrix):\n",
        "  reachability_matrix, init_matrix = warshall_algorithm(adj_matrix)\n",
        "  n = len(reachability_matrix)\n",
        "  text_matrix = [[0 for j in range(n)] for i in range(n)]\n",
        "  for i in range(n):\n",
        "    for j in range(n):\n",
        "      if reachability_matrix[i][j] == init_matrix[i][j]:\n",
        "        text_matrix[i][j] = str(reachability_matrix[i][j])\n",
        "      else:\n",
        "        text_matrix[i][j] = '1*'\n",
        "\n",
        "  return text_matrix\n",
        "\n"
      ],
      "metadata": {
        "id": "q0pwO8HUZekN"
      },
      "execution_count": null,
      "outputs": []
    },
    {
      "cell_type": "code",
      "source": [
        "for row in text_matrix_fn(graph2):\n",
        "  print(row)"
      ],
      "metadata": {
        "colab": {
          "base_uri": "https://localhost:8080/"
        },
        "id": "4p3_098wb1Tx",
        "outputId": "f5350d1b-38f6-437f-bda8-35dac1fe78b3"
      },
      "execution_count": null,
      "outputs": [
        {
          "output_type": "stream",
          "name": "stdout",
          "text": [
            "['1', '1', '1', '1', '1*', '1', '1', '1', '1*', '1']\n",
            "['1', '1', '1*', '1*', '1*', '1', '1', '1', '1*', '1']\n",
            "['0', '0', '1', '1*', '1*', '1', '0', '1*', '1*', '0']\n",
            "['0', '0', '0', '1', '1', '1', '0', '1', '1*', '0']\n",
            "['0', '0', '0', '1', '1', '1*', '0', '1*', '1*', '0']\n",
            "['0', '0', '0', '1*', '1*', '1', '0', '1', '1', '0']\n",
            "['0', '0', '0', '1', '1*', '1', '1', '1*', '1', '0']\n",
            "['0', '0', '0', '0', '0', '0', '0', '1', '0', '0']\n",
            "['0', '0', '0', '1', '1*', '1', '0', '1*', '1', '0']\n",
            "['0', '0', '1', '1*', '1*', '1', '1', '1*', '1', '1']\n"
          ]
        }
      ]
    },
    {
      "cell_type": "markdown",
      "source": [],
      "metadata": {
        "id": "IiB5dT6uZ9X9"
      }
    },
    {
      "cell_type": "code",
      "source": [
        "import numpy as np\n",
        "reachMatrix = np.array(warshall_algorithm(graph2)[0])\n",
        "reachMatrix"
      ],
      "metadata": {
        "colab": {
          "base_uri": "https://localhost:8080/"
        },
        "id": "r2-oACMxgK3D",
        "outputId": "c681e36d-4acc-488f-f532-9eaf228ba26f"
      },
      "execution_count": null,
      "outputs": [
        {
          "output_type": "execute_result",
          "data": {
            "text/plain": [
              "array([[1, 1, 1, 1, 1, 1, 1, 1, 1, 1],\n",
              "       [1, 1, 1, 1, 1, 1, 1, 1, 1, 1],\n",
              "       [0, 0, 1, 1, 1, 1, 0, 1, 1, 0],\n",
              "       [0, 0, 0, 1, 1, 1, 0, 1, 1, 0],\n",
              "       [0, 0, 0, 1, 1, 1, 0, 1, 1, 0],\n",
              "       [0, 0, 0, 1, 1, 1, 0, 1, 1, 0],\n",
              "       [0, 0, 0, 1, 1, 1, 1, 1, 1, 0],\n",
              "       [0, 0, 0, 0, 0, 0, 0, 1, 0, 0],\n",
              "       [0, 0, 0, 1, 1, 1, 0, 1, 1, 0],\n",
              "       [0, 0, 1, 1, 1, 1, 1, 1, 1, 1]])"
            ]
          },
          "metadata": {},
          "execution_count": 6
        }
      ]
    },
    {
      "cell_type": "code",
      "source": [
        "reachMatrix.sum(axis = 1)"
      ],
      "metadata": {
        "colab": {
          "base_uri": "https://localhost:8080/"
        },
        "id": "3ebaEMrNgieI",
        "outputId": "5c6c2a05-5e61-4293-d8a8-74e9d8146ddd"
      },
      "execution_count": null,
      "outputs": [
        {
          "output_type": "execute_result",
          "data": {
            "text/plain": [
              "array([10, 10,  6,  5,  5,  5,  6,  1,  5,  8])"
            ]
          },
          "metadata": {},
          "execution_count": 7
        }
      ]
    },
    {
      "cell_type": "code",
      "source": [
        "reachMatrix.sum(axis = 0)"
      ],
      "metadata": {
        "colab": {
          "base_uri": "https://localhost:8080/"
        },
        "id": "lbTLzp75gzAv",
        "outputId": "a6f3c09d-f30b-4743-9f96-14d9dff91464"
      },
      "execution_count": null,
      "outputs": [
        {
          "output_type": "execute_result",
          "data": {
            "text/plain": [
              "array([ 2,  2,  4,  9,  9,  9,  4, 10,  9,  3])"
            ]
          },
          "metadata": {},
          "execution_count": 8
        }
      ]
    },
    {
      "cell_type": "markdown",
      "source": [],
      "metadata": {
        "id": "c0Bm93Nt60O4"
      }
    },
    {
      "cell_type": "code",
      "source": [
        "def partition_reachability_matrix(matrix):\n",
        "    n = len(matrix)\n",
        "    levels = []\n",
        "\n",
        "    # Copy the matrix to avoid modifying the original\n",
        "    temp_matrix = [row[:] for row in matrix]\n",
        "\n",
        "    level_num = 1  # To keep track of the level number\n",
        "\n",
        "    print(f\"\\n===Factor:  [reachability_set],[ Antecedent Set], [Intersection]===\")\n",
        "\n",
        "    while any(cell == 1 for row in temp_matrix for cell in row):  # Continue until the matrix has any 1s left\n",
        "        current_level = set()\n",
        "\n",
        "        print(f\"\\n--------------- Processing Level {level_num} ---------------\")\n",
        "        for i in range(n):\n",
        "            # If row is already all zeros, skip\n",
        "            if sum(temp_matrix[i]) == 0:\n",
        "                continue\n",
        "\n",
        "            # Find reachability set for element i\n",
        "            reachability_set = {j for j, x in enumerate(temp_matrix[i]) if x == 1}\n",
        "\n",
        "            # Find antecedent set for element i\n",
        "            antecedent_set = {j for j in range(n) if temp_matrix[j][i] == 1}\n",
        "\n",
        "            # Intersection of the two sets\n",
        "            intersection = reachability_set.intersection(antecedent_set)\n",
        "\n",
        "            # Print for clarity\n",
        "            print(f\"F{i+1}:,{[x+1 for x in reachability_set]}, {[x+1 for x in antecedent_set]}, {[x+1 for x in intersection]}\")\n",
        "            #print(f\"  Reachability Set: {[x+1 for x in reachability_set]}   Antecedent Set: {[x+1 for x in antecedent_set]} Intersection: {[x+1 for x in intersection]}\")\n",
        "            #print(f\"  Antecedent Set: {[x+1 for x in antecedent_set]}\")\n",
        "            #print(f\"  Intersection: {[x+1 for x in intersection]}\")\n",
        "\n",
        "            # If the intersection is the same as reachability set, add to current level\n",
        "            if intersection == reachability_set:\n",
        "                current_level.add(i)\n",
        "\n",
        "        # Remove current level elements from the matrix for the next iteration\n",
        "        for i in current_level:\n",
        "            for j in range(n):\n",
        "                temp_matrix[i][j] = 0\n",
        "                temp_matrix[j][i] = 0\n",
        "\n",
        "        levels.append(current_level)\n",
        "        level_num += 1\n",
        "    print(f\"\\n=============================================\")\n",
        "\n",
        "    return levels\n",
        "\n",
        "# Using the previously created final_reachability_matrix as an example\n",
        "matrix = [\n",
        "    [1, 1, 1, 0],\n",
        "    [0, 1, 1, 1],\n",
        "    [0, 0, 1, 1],\n",
        "    [0, 0, 0, 1]\n",
        "]\n",
        "\n",
        "levels = partition_reachability_matrix(matrix)\n",
        "\n",
        "print(\"\\nFinal Levels:\")\n",
        "for idx, level in enumerate(levels, 1):\n",
        "    print(f\"Level {idx}:\", [item + 1 for item in level])  # +1 for 1-based indexing\n"
      ],
      "metadata": {
        "colab": {
          "base_uri": "https://localhost:8080/"
        },
        "id": "i5sbhOIOf-I1",
        "outputId": "dbea3130-a2b6-4faa-ea8e-a2d313e55edb"
      },
      "execution_count": null,
      "outputs": [
        {
          "output_type": "stream",
          "name": "stdout",
          "text": [
            "\n",
            "===Factor:  [reachability_set],[ Antecedent Set], [Intersection]===\n",
            "\n",
            "--------------- Processing Level 1 ---------------\n",
            "F1:,[1, 2, 3], [1], [1]\n",
            "F2:,[2, 3, 4], [1, 2], [2]\n",
            "F3:,[3, 4], [1, 2, 3], [3]\n",
            "F4:,[4], [2, 3, 4], [4]\n",
            "\n",
            "--------------- Processing Level 2 ---------------\n",
            "F1:,[1, 2, 3], [1], [1]\n",
            "F2:,[2, 3], [1, 2], [2]\n",
            "F3:,[3], [1, 2, 3], [3]\n",
            "\n",
            "--------------- Processing Level 3 ---------------\n",
            "F1:,[1, 2], [1], [1]\n",
            "F2:,[2], [1, 2], [2]\n",
            "\n",
            "--------------- Processing Level 4 ---------------\n",
            "F1:,[1], [1], [1]\n",
            "\n",
            "=============================================\n",
            "\n",
            "Final Levels:\n",
            "Level 1: [4]\n",
            "Level 2: [3]\n",
            "Level 3: [2]\n",
            "Level 4: [1]\n"
          ]
        }
      ]
    },
    {
      "cell_type": "code",
      "source": [
        "levels = partition_reachability_matrix(warshall_algorithm(graph2)[0])\n",
        "\n",
        "for level in levels:\n",
        "    print(\"Level :\", [item + 1 for item in level])  # +1 for 1-based indexin"
      ],
      "metadata": {
        "colab": {
          "base_uri": "https://localhost:8080/"
        },
        "id": "h1012vxWHCe8",
        "outputId": "f926bd83-48a8-4b44-ee14-4b816b22b8c3"
      },
      "execution_count": null,
      "outputs": [
        {
          "output_type": "stream",
          "name": "stdout",
          "text": [
            "\n",
            "===Factor:  [reachability_set],[ Antecedent Set], [Intersection]===\n",
            "\n",
            "--------------- Processing Level 1 ---------------\n",
            "F1:,[1, 2, 3, 4, 5, 6, 7, 8, 9, 10], [1, 2], [1, 2]\n",
            "F2:,[1, 2, 3, 4, 5, 6, 7, 8, 9, 10], [1, 2], [1, 2]\n",
            "F3:,[3, 4, 5, 6, 8, 9], [1, 2, 3, 10], [3]\n",
            "F4:,[4, 5, 6, 8, 9], [1, 2, 3, 4, 5, 6, 7, 9, 10], [9, 4, 5, 6]\n",
            "F5:,[4, 5, 6, 8, 9], [1, 2, 3, 4, 5, 6, 7, 9, 10], [9, 4, 5, 6]\n",
            "F6:,[4, 5, 6, 8, 9], [1, 2, 3, 4, 5, 6, 7, 9, 10], [9, 4, 5, 6]\n",
            "F7:,[4, 5, 6, 7, 8, 9], [1, 2, 7, 10], [7]\n",
            "F8:,[8], [1, 2, 3, 4, 5, 6, 7, 8, 9, 10], [8]\n",
            "F9:,[4, 5, 6, 8, 9], [1, 2, 3, 4, 5, 6, 7, 9, 10], [9, 4, 5, 6]\n",
            "F10:,[3, 4, 5, 6, 7, 8, 9, 10], [1, 2, 10], [10]\n",
            "\n",
            "--------------- Processing Level 2 ---------------\n",
            "F1:,[1, 2, 3, 4, 5, 6, 7, 9, 10], [1, 2], [1, 2]\n",
            "F2:,[1, 2, 3, 4, 5, 6, 7, 9, 10], [1, 2], [1, 2]\n",
            "F3:,[3, 4, 5, 6, 9], [1, 2, 3, 10], [3]\n",
            "F4:,[9, 4, 5, 6], [1, 2, 3, 4, 5, 6, 7, 9, 10], [9, 4, 5, 6]\n",
            "F5:,[9, 4, 5, 6], [1, 2, 3, 4, 5, 6, 7, 9, 10], [9, 4, 5, 6]\n",
            "F6:,[9, 4, 5, 6], [1, 2, 3, 4, 5, 6, 7, 9, 10], [9, 4, 5, 6]\n",
            "F7:,[4, 5, 6, 7, 9], [1, 2, 7, 10], [7]\n",
            "F9:,[9, 4, 5, 6], [1, 2, 3, 4, 5, 6, 7, 9, 10], [9, 4, 5, 6]\n",
            "F10:,[3, 4, 5, 6, 7, 9, 10], [1, 2, 10], [10]\n",
            "\n",
            "--------------- Processing Level 3 ---------------\n",
            "F1:,[1, 2, 3, 7, 10], [1, 2], [1, 2]\n",
            "F2:,[1, 2, 3, 7, 10], [1, 2], [1, 2]\n",
            "F3:,[3], [1, 2, 3, 10], [3]\n",
            "F7:,[7], [1, 2, 7, 10], [7]\n",
            "F10:,[10, 3, 7], [1, 2, 10], [10]\n",
            "\n",
            "--------------- Processing Level 4 ---------------\n",
            "F1:,[1, 2, 10], [1, 2], [1, 2]\n",
            "F2:,[1, 2, 10], [1, 2], [1, 2]\n",
            "F10:,[10], [1, 2, 10], [10]\n",
            "\n",
            "--------------- Processing Level 5 ---------------\n",
            "F1:,[1, 2], [1, 2], [1, 2]\n",
            "F2:,[1, 2], [1, 2], [1, 2]\n",
            "\n",
            "=============================================\n",
            "Level : [8]\n",
            "Level : [9, 4, 5, 6]\n",
            "Level : [3, 7]\n",
            "Level : [10]\n",
            "Level : [1, 2]\n"
          ]
        }
      ]
    }
  ]
}